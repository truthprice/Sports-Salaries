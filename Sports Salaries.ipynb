{
 "cells": [
  {
   "cell_type": "code",
   "execution_count": 13,
   "id": "6306bef1",
   "metadata": {},
   "outputs": [],
   "source": [
    "import pandas as pd\n",
    "from sqlalchemy import create_engine"
   ]
  },
  {
   "cell_type": "markdown",
   "id": "6e882924",
   "metadata": {},
   "source": [
    "# Extract CSV files into DataFrames"
   ]
  },
  {
   "cell_type": "code",
   "execution_count": 37,
   "id": "734558a3",
   "metadata": {},
   "outputs": [
    {
     "data": {
      "text/html": [
       "<div>\n",
       "<style scoped>\n",
       "    .dataframe tbody tr th:only-of-type {\n",
       "        vertical-align: middle;\n",
       "    }\n",
       "\n",
       "    .dataframe tbody tr th {\n",
       "        vertical-align: top;\n",
       "    }\n",
       "\n",
       "    .dataframe thead th {\n",
       "        text-align: right;\n",
       "    }\n",
       "</style>\n",
       "<table border=\"1\" class=\"dataframe\">\n",
       "  <thead>\n",
       "    <tr style=\"text-align: right;\">\n",
       "      <th></th>\n",
       "      <th>salary</th>\n",
       "      <th>name</th>\n",
       "      <th>total_value</th>\n",
       "      <th>pos</th>\n",
       "      <th>years</th>\n",
       "      <th>avg_annual</th>\n",
       "      <th>team</th>\n",
       "    </tr>\n",
       "  </thead>\n",
       "  <tbody>\n",
       "    <tr>\n",
       "      <th>0</th>\n",
       "      <td>$ 3,800,000</td>\n",
       "      <td>Darryl Strawberry</td>\n",
       "      <td>$ 3,800,000</td>\n",
       "      <td>OF</td>\n",
       "      <td>1 (1991)</td>\n",
       "      <td>$ 3,800,000</td>\n",
       "      <td>LAD</td>\n",
       "    </tr>\n",
       "    <tr>\n",
       "      <th>1</th>\n",
       "      <td>$ 3,750,000</td>\n",
       "      <td>Kevin Mitchell</td>\n",
       "      <td>$ 3,750,000</td>\n",
       "      <td>OF</td>\n",
       "      <td>1 (1991)</td>\n",
       "      <td>$ 3,750,000</td>\n",
       "      <td>SF</td>\n",
       "    </tr>\n",
       "    <tr>\n",
       "      <th>2</th>\n",
       "      <td>$ 3,750,000</td>\n",
       "      <td>Will Clark</td>\n",
       "      <td>$ 3,750,000</td>\n",
       "      <td>1B</td>\n",
       "      <td>1 (1991)</td>\n",
       "      <td>$ 3,750,000</td>\n",
       "      <td>SF</td>\n",
       "    </tr>\n",
       "    <tr>\n",
       "      <th>3</th>\n",
       "      <td>$ 3,625,000</td>\n",
       "      <td>Mark Davis</td>\n",
       "      <td>$ 3,625,000</td>\n",
       "      <td>P</td>\n",
       "      <td>1 (1991)</td>\n",
       "      <td>$ 3,625,000</td>\n",
       "      <td>KC</td>\n",
       "    </tr>\n",
       "    <tr>\n",
       "      <th>4</th>\n",
       "      <td>$ 3,600,000</td>\n",
       "      <td>Eric Davis</td>\n",
       "      <td>$ 3,600,000</td>\n",
       "      <td>OF</td>\n",
       "      <td>1 (1991)</td>\n",
       "      <td>$ 3,600,000</td>\n",
       "      <td>CIN</td>\n",
       "    </tr>\n",
       "  </tbody>\n",
       "</table>\n",
       "</div>"
      ],
      "text/plain": [
       "        salary               name  total_value pos     years   avg_annual team\n",
       "0  $ 3,800,000  Darryl Strawberry  $ 3,800,000  OF  1 (1991)  $ 3,800,000  LAD\n",
       "1  $ 3,750,000     Kevin Mitchell  $ 3,750,000  OF  1 (1991)  $ 3,750,000   SF\n",
       "2  $ 3,750,000         Will Clark  $ 3,750,000  1B  1 (1991)  $ 3,750,000   SF\n",
       "3  $ 3,625,000         Mark Davis  $ 3,625,000   P  1 (1991)  $ 3,625,000   KC\n",
       "4  $ 3,600,000         Eric Davis  $ 3,600,000  OF  1 (1991)  $ 3,600,000  CIN"
      ]
     },
     "execution_count": 37,
     "metadata": {},
     "output_type": "execute_result"
    }
   ],
   "source": [
    "# Load baseball csv into a dataframe\n",
    "baseball_file = \"Resources/mlbsalaries.csv\"\n",
    "baseball_df = pd.read_csv(baseball_file)\n",
    "baseball_df.head()"
   ]
  },
  {
   "cell_type": "code",
   "execution_count": 46,
   "id": "c6705ab5",
   "metadata": {},
   "outputs": [
    {
     "data": {
      "text/plain": [
       "Index(['RK', 'NAME', 'TEAM', 'SALARY         ', 'Team Rank'], dtype='object')"
      ]
     },
     "execution_count": 46,
     "metadata": {},
     "output_type": "execute_result"
    }
   ],
   "source": [
    "# Load basketball csv into a dataframe\n",
    "basketball_file = \"Resources/nbasalaries.csv\"\n",
    "basketball_df = pd.read_csv(basketball_file)\n",
    "basketball_df.columns"
   ]
  },
  {
   "cell_type": "code",
   "execution_count": 39,
   "id": "2751dc9a",
   "metadata": {},
   "outputs": [
    {
     "data": {
      "text/html": [
       "<div>\n",
       "<style scoped>\n",
       "    .dataframe tbody tr th:only-of-type {\n",
       "        vertical-align: middle;\n",
       "    }\n",
       "\n",
       "    .dataframe tbody tr th {\n",
       "        vertical-align: top;\n",
       "    }\n",
       "\n",
       "    .dataframe thead th {\n",
       "        text-align: right;\n",
       "    }\n",
       "</style>\n",
       "<table border=\"1\" class=\"dataframe\">\n",
       "  <thead>\n",
       "    <tr style=\"text-align: right;\">\n",
       "      <th></th>\n",
       "      <th>name</th>\n",
       "      <th>pos</th>\n",
       "      <th>cap_hit</th>\n",
       "      <th>cap_percent</th>\n",
       "      <th>season</th>\n",
       "      <th>team</th>\n",
       "    </tr>\n",
       "  </thead>\n",
       "  <tbody>\n",
       "    <tr>\n",
       "      <th>0</th>\n",
       "      <td>Russell Wilson</td>\n",
       "      <td>QB</td>\n",
       "      <td>31000000</td>\n",
       "      <td>15.53</td>\n",
       "      <td>2020</td>\n",
       "      <td>seattle-seahawks</td>\n",
       "    </tr>\n",
       "    <tr>\n",
       "      <th>1</th>\n",
       "      <td>Aaron Rodgers</td>\n",
       "      <td>QB</td>\n",
       "      <td>29672000</td>\n",
       "      <td>15.06</td>\n",
       "      <td>2019</td>\n",
       "      <td>green-bay-packers</td>\n",
       "    </tr>\n",
       "    <tr>\n",
       "      <th>2</th>\n",
       "      <td>Kirk Cousins</td>\n",
       "      <td>QB</td>\n",
       "      <td>29000000</td>\n",
       "      <td>15.12</td>\n",
       "      <td>2019</td>\n",
       "      <td>minnesota-vikings</td>\n",
       "    </tr>\n",
       "    <tr>\n",
       "      <th>3</th>\n",
       "      <td>Jared Goff</td>\n",
       "      <td>QB</td>\n",
       "      <td>28842682</td>\n",
       "      <td>14.15</td>\n",
       "      <td>2020</td>\n",
       "      <td>los-angeles-rams</td>\n",
       "    </tr>\n",
       "    <tr>\n",
       "      <th>4</th>\n",
       "      <td>Khalil Mack</td>\n",
       "      <td>OLB</td>\n",
       "      <td>26600000</td>\n",
       "      <td>12.52</td>\n",
       "      <td>2020</td>\n",
       "      <td>chicago-bears</td>\n",
       "    </tr>\n",
       "  </tbody>\n",
       "</table>\n",
       "</div>"
      ],
      "text/plain": [
       "             name  pos   cap_hit  cap_percent  season               team\n",
       "0  Russell Wilson   QB  31000000        15.53    2020   seattle-seahawks\n",
       "1   Aaron Rodgers   QB  29672000        15.06    2019  green-bay-packers\n",
       "2    Kirk Cousins   QB  29000000        15.12    2019  minnesota-vikings\n",
       "3      Jared Goff   QB  28842682        14.15    2020   los-angeles-rams\n",
       "4     Khalil Mack  OLB  26600000        12.52    2020      chicago-bears"
      ]
     },
     "execution_count": 39,
     "metadata": {},
     "output_type": "execute_result"
    }
   ],
   "source": [
    "# Load football csv into a dataframe\n",
    "football_file = \"Resources/nflsalaries.csv\"\n",
    "football_df = pd.read_csv(football_file)\n",
    "football_df.head()"
   ]
  },
  {
   "cell_type": "markdown",
   "id": "8f2cf44d",
   "metadata": {},
   "source": [
    "# Transform Baseball DataFrame"
   ]
  },
  {
   "cell_type": "code",
   "execution_count": 41,
   "id": "b6d24a3f",
   "metadata": {},
   "outputs": [
    {
     "data": {
      "text/html": [
       "<div>\n",
       "<style scoped>\n",
       "    .dataframe tbody tr th:only-of-type {\n",
       "        vertical-align: middle;\n",
       "    }\n",
       "\n",
       "    .dataframe tbody tr th {\n",
       "        vertical-align: top;\n",
       "    }\n",
       "\n",
       "    .dataframe thead th {\n",
       "        text-align: right;\n",
       "    }\n",
       "</style>\n",
       "<table border=\"1\" class=\"dataframe\">\n",
       "  <thead>\n",
       "    <tr style=\"text-align: right;\">\n",
       "      <th></th>\n",
       "      <th>Name</th>\n",
       "      <th>Salary</th>\n",
       "      <th>Year</th>\n",
       "      <th>Position</th>\n",
       "      <th>Team</th>\n",
       "    </tr>\n",
       "  </thead>\n",
       "  <tbody>\n",
       "    <tr>\n",
       "      <th>0</th>\n",
       "      <td>Darryl Strawberry</td>\n",
       "      <td>$ 3,800,000</td>\n",
       "      <td>1 (1991)</td>\n",
       "      <td>OF</td>\n",
       "      <td>LAD</td>\n",
       "    </tr>\n",
       "    <tr>\n",
       "      <th>1</th>\n",
       "      <td>Kevin Mitchell</td>\n",
       "      <td>$ 3,750,000</td>\n",
       "      <td>1 (1991)</td>\n",
       "      <td>OF</td>\n",
       "      <td>SF</td>\n",
       "    </tr>\n",
       "    <tr>\n",
       "      <th>2</th>\n",
       "      <td>Will Clark</td>\n",
       "      <td>$ 3,750,000</td>\n",
       "      <td>1 (1991)</td>\n",
       "      <td>1B</td>\n",
       "      <td>SF</td>\n",
       "    </tr>\n",
       "    <tr>\n",
       "      <th>3</th>\n",
       "      <td>Mark Davis</td>\n",
       "      <td>$ 3,625,000</td>\n",
       "      <td>1 (1991)</td>\n",
       "      <td>P</td>\n",
       "      <td>KC</td>\n",
       "    </tr>\n",
       "    <tr>\n",
       "      <th>4</th>\n",
       "      <td>Eric Davis</td>\n",
       "      <td>$ 3,600,000</td>\n",
       "      <td>1 (1991)</td>\n",
       "      <td>OF</td>\n",
       "      <td>CIN</td>\n",
       "    </tr>\n",
       "  </tbody>\n",
       "</table>\n",
       "</div>"
      ],
      "text/plain": [
       "                Name       Salary      Year Position Team\n",
       "0  Darryl Strawberry  $ 3,800,000  1 (1991)       OF  LAD\n",
       "1     Kevin Mitchell  $ 3,750,000  1 (1991)       OF   SF\n",
       "2         Will Clark  $ 3,750,000  1 (1991)       1B   SF\n",
       "3         Mark Davis  $ 3,625,000  1 (1991)        P   KC\n",
       "4         Eric Davis  $ 3,600,000  1 (1991)       OF  CIN"
      ]
     },
     "execution_count": 41,
     "metadata": {},
     "output_type": "execute_result"
    }
   ],
   "source": [
    "# Create a filtered dataframe from specific columns\n",
    "\n",
    "baseball_cols = [\"name\", \"salary\", \"years\", \"pos\", \"team\"]\n",
    "baseball_transformed = baseball_df[baseball_cols].copy()\n",
    "\n",
    "# Rename columns\n",
    "baseball_transformed = baseball_transformed.rename(columns = {\"salary\": \"Salary\",\n",
    "                                                              \"name\": \"Name\",\n",
    "                                                              \"pos\": \"Position\",\n",
    "                                                              \"years\": \"Year\", \n",
    "                                                              \"team\": \"Team\"})\n",
    "baseball_transformed.head()\n",
    "# count = baseball_transformed[\"pos\"].value_counts()\n",
    "# count"
   ]
  },
  {
   "cell_type": "markdown",
   "id": "8f14ff9f",
   "metadata": {},
   "source": [
    "# Transform Basketball DataFrame"
   ]
  },
  {
   "cell_type": "code",
   "execution_count": 45,
   "id": "99b8d337",
   "metadata": {},
   "outputs": [
    {
     "ename": "KeyError",
     "evalue": "\"['SALARY'] not in index\"",
     "output_type": "error",
     "traceback": [
      "\u001b[1;31m---------------------------------------------------------------------------\u001b[0m",
      "\u001b[1;31mKeyError\u001b[0m                                  Traceback (most recent call last)",
      "\u001b[1;32m<ipython-input-45-2eaaa0f9be70>\u001b[0m in \u001b[0;36m<module>\u001b[1;34m\u001b[0m\n\u001b[0;32m      2\u001b[0m \u001b[1;33m\u001b[0m\u001b[0m\n\u001b[0;32m      3\u001b[0m \u001b[0mbasketball_cols\u001b[0m \u001b[1;33m=\u001b[0m \u001b[1;33m[\u001b[0m\u001b[1;34m\"NAME\"\u001b[0m\u001b[1;33m,\u001b[0m \u001b[1;34m\"SALARY\"\u001b[0m\u001b[1;33m]\u001b[0m\u001b[1;33m\u001b[0m\u001b[1;33m\u001b[0m\u001b[0m\n\u001b[1;32m----> 4\u001b[1;33m \u001b[0mbasketball_transformed\u001b[0m \u001b[1;33m=\u001b[0m \u001b[0mbasketball_df\u001b[0m\u001b[1;33m[\u001b[0m\u001b[0mbasketball_cols\u001b[0m\u001b[1;33m]\u001b[0m\u001b[1;33m.\u001b[0m\u001b[0mcopy\u001b[0m\u001b[1;33m(\u001b[0m\u001b[1;33m)\u001b[0m\u001b[1;33m\u001b[0m\u001b[1;33m\u001b[0m\u001b[0m\n\u001b[0m\u001b[0;32m      5\u001b[0m \u001b[0mbasketball_transformed\u001b[0m\u001b[1;33m.\u001b[0m\u001b[0mhead\u001b[0m\u001b[1;33m(\u001b[0m\u001b[1;33m)\u001b[0m\u001b[1;33m\u001b[0m\u001b[1;33m\u001b[0m\u001b[0m\n",
      "\u001b[1;32m~\\anaconda3\\envs\\PythonData\\lib\\site-packages\\pandas\\core\\frame.py\u001b[0m in \u001b[0;36m__getitem__\u001b[1;34m(self, key)\u001b[0m\n\u001b[0;32m   2804\u001b[0m             \u001b[1;32mif\u001b[0m \u001b[0mis_iterator\u001b[0m\u001b[1;33m(\u001b[0m\u001b[0mkey\u001b[0m\u001b[1;33m)\u001b[0m\u001b[1;33m:\u001b[0m\u001b[1;33m\u001b[0m\u001b[1;33m\u001b[0m\u001b[0m\n\u001b[0;32m   2805\u001b[0m                 \u001b[0mkey\u001b[0m \u001b[1;33m=\u001b[0m \u001b[0mlist\u001b[0m\u001b[1;33m(\u001b[0m\u001b[0mkey\u001b[0m\u001b[1;33m)\u001b[0m\u001b[1;33m\u001b[0m\u001b[1;33m\u001b[0m\u001b[0m\n\u001b[1;32m-> 2806\u001b[1;33m             \u001b[0mindexer\u001b[0m \u001b[1;33m=\u001b[0m \u001b[0mself\u001b[0m\u001b[1;33m.\u001b[0m\u001b[0mloc\u001b[0m\u001b[1;33m.\u001b[0m\u001b[0m_get_listlike_indexer\u001b[0m\u001b[1;33m(\u001b[0m\u001b[0mkey\u001b[0m\u001b[1;33m,\u001b[0m \u001b[0maxis\u001b[0m\u001b[1;33m=\u001b[0m\u001b[1;36m1\u001b[0m\u001b[1;33m,\u001b[0m \u001b[0mraise_missing\u001b[0m\u001b[1;33m=\u001b[0m\u001b[1;32mTrue\u001b[0m\u001b[1;33m)\u001b[0m\u001b[1;33m[\u001b[0m\u001b[1;36m1\u001b[0m\u001b[1;33m]\u001b[0m\u001b[1;33m\u001b[0m\u001b[1;33m\u001b[0m\u001b[0m\n\u001b[0m\u001b[0;32m   2807\u001b[0m \u001b[1;33m\u001b[0m\u001b[0m\n\u001b[0;32m   2808\u001b[0m         \u001b[1;31m# take() does not accept boolean indexers\u001b[0m\u001b[1;33m\u001b[0m\u001b[1;33m\u001b[0m\u001b[1;33m\u001b[0m\u001b[0m\n",
      "\u001b[1;32m~\\anaconda3\\envs\\PythonData\\lib\\site-packages\\pandas\\core\\indexing.py\u001b[0m in \u001b[0;36m_get_listlike_indexer\u001b[1;34m(self, key, axis, raise_missing)\u001b[0m\n\u001b[0;32m   1551\u001b[0m \u001b[1;33m\u001b[0m\u001b[0m\n\u001b[0;32m   1552\u001b[0m         self._validate_read_indexer(\n\u001b[1;32m-> 1553\u001b[1;33m             \u001b[0mkeyarr\u001b[0m\u001b[1;33m,\u001b[0m \u001b[0mindexer\u001b[0m\u001b[1;33m,\u001b[0m \u001b[0mo\u001b[0m\u001b[1;33m.\u001b[0m\u001b[0m_get_axis_number\u001b[0m\u001b[1;33m(\u001b[0m\u001b[0maxis\u001b[0m\u001b[1;33m)\u001b[0m\u001b[1;33m,\u001b[0m \u001b[0mraise_missing\u001b[0m\u001b[1;33m=\u001b[0m\u001b[0mraise_missing\u001b[0m\u001b[1;33m\u001b[0m\u001b[1;33m\u001b[0m\u001b[0m\n\u001b[0m\u001b[0;32m   1554\u001b[0m         )\n\u001b[0;32m   1555\u001b[0m         \u001b[1;32mreturn\u001b[0m \u001b[0mkeyarr\u001b[0m\u001b[1;33m,\u001b[0m \u001b[0mindexer\u001b[0m\u001b[1;33m\u001b[0m\u001b[1;33m\u001b[0m\u001b[0m\n",
      "\u001b[1;32m~\\anaconda3\\envs\\PythonData\\lib\\site-packages\\pandas\\core\\indexing.py\u001b[0m in \u001b[0;36m_validate_read_indexer\u001b[1;34m(self, key, indexer, axis, raise_missing)\u001b[0m\n\u001b[0;32m   1644\u001b[0m             \u001b[1;32mif\u001b[0m \u001b[1;32mnot\u001b[0m \u001b[1;33m(\u001b[0m\u001b[0mself\u001b[0m\u001b[1;33m.\u001b[0m\u001b[0mname\u001b[0m \u001b[1;33m==\u001b[0m \u001b[1;34m\"loc\"\u001b[0m \u001b[1;32mand\u001b[0m \u001b[1;32mnot\u001b[0m \u001b[0mraise_missing\u001b[0m\u001b[1;33m)\u001b[0m\u001b[1;33m:\u001b[0m\u001b[1;33m\u001b[0m\u001b[1;33m\u001b[0m\u001b[0m\n\u001b[0;32m   1645\u001b[0m                 \u001b[0mnot_found\u001b[0m \u001b[1;33m=\u001b[0m \u001b[0mlist\u001b[0m\u001b[1;33m(\u001b[0m\u001b[0mset\u001b[0m\u001b[1;33m(\u001b[0m\u001b[0mkey\u001b[0m\u001b[1;33m)\u001b[0m \u001b[1;33m-\u001b[0m \u001b[0mset\u001b[0m\u001b[1;33m(\u001b[0m\u001b[0max\u001b[0m\u001b[1;33m)\u001b[0m\u001b[1;33m)\u001b[0m\u001b[1;33m\u001b[0m\u001b[1;33m\u001b[0m\u001b[0m\n\u001b[1;32m-> 1646\u001b[1;33m                 \u001b[1;32mraise\u001b[0m \u001b[0mKeyError\u001b[0m\u001b[1;33m(\u001b[0m\u001b[1;34mf\"{not_found} not in index\"\u001b[0m\u001b[1;33m)\u001b[0m\u001b[1;33m\u001b[0m\u001b[1;33m\u001b[0m\u001b[0m\n\u001b[0m\u001b[0;32m   1647\u001b[0m \u001b[1;33m\u001b[0m\u001b[0m\n\u001b[0;32m   1648\u001b[0m             \u001b[1;31m# we skip the warning on Categorical/Interval\u001b[0m\u001b[1;33m\u001b[0m\u001b[1;33m\u001b[0m\u001b[1;33m\u001b[0m\u001b[0m\n",
      "\u001b[1;31mKeyError\u001b[0m: \"['SALARY'] not in index\""
     ]
    }
   ],
   "source": [
    "# Create a filtered dataframe from specific columns\n",
    "\n",
    "basketball_cols = [\"NAME\", \"SALARY\"]\n",
    "basketball_transformed = basketball_df[basketball_cols].copy()\n",
    "basketball_transformed.head()"
   ]
  },
  {
   "cell_type": "code",
   "execution_count": null,
   "id": "685934b2",
   "metadata": {},
   "outputs": [],
   "source": []
  }
 ],
 "metadata": {
  "kernelspec": {
   "display_name": "Python 3",
   "language": "python",
   "name": "python3"
  },
  "language_info": {
   "codemirror_mode": {
    "name": "ipython",
    "version": 3
   },
   "file_extension": ".py",
   "mimetype": "text/x-python",
   "name": "python",
   "nbconvert_exporter": "python",
   "pygments_lexer": "ipython3",
   "version": "3.6.10"
  }
 },
 "nbformat": 4,
 "nbformat_minor": 5
}
