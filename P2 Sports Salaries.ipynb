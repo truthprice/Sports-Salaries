{
 "cells": [
  {
   "cell_type": "code",
   "execution_count": null,
   "id": "3465b648",
   "metadata": {},
   "outputs": [],
   "source": [
    "# Imported Dependencies\n",
    "import pandas as pd\n",
    "from sqlalchemy import create_engine\n",
    "import psycopg2"
   ]
  },
  {
   "cell_type": "markdown",
   "id": "0409fce6",
   "metadata": {},
   "source": [
    "# Extract CSV Files to DataFrames"
   ]
  },
  {
   "cell_type": "code",
   "execution_count": null,
   "id": "e55c0935",
   "metadata": {},
   "outputs": [],
   "source": [
    "# Exctract first football dataset and create a dataframe\n",
    "nfl_file1 = \"Resources/NFL_Salaries1.csv\"\n",
    "nfl_df1 = pd.read_csv(nfl_file1)\n",
    "nfl_df1.head()"
   ]
  },
  {
   "cell_type": "code",
   "execution_count": null,
   "id": "8bd2e37d",
   "metadata": {},
   "outputs": [],
   "source": [
    "# Exctract second football dataset and create a dataframe\n",
    "nfl_file2 = \"Resources/NFL_Salaries2.csv\"\n",
    "nfl_df2 = pd.read_csv(nfl_file2)\n",
    "nfl_df2.head()"
   ]
  },
  {
   "cell_type": "code",
   "execution_count": null,
   "id": "2bfa21d5",
   "metadata": {},
   "outputs": [],
   "source": [
    "# Exctract first basketball dataset and create a dataframe\n",
    "nba_file1 = \"Resources/salaries_1985to2018.csv\"\n",
    "nba_df1 = pd.read_csv(nba_file1)\n",
    "nba_df1.head()"
   ]
  },
  {
   "cell_type": "code",
   "execution_count": null,
   "id": "dd156e3a",
   "metadata": {},
   "outputs": [],
   "source": [
    "# Exctract second basketball dataset and create a dataframe\n",
    "nba_file2 = \"Resources/players.csv\"\n",
    "nba_df2 = pd.read_csv(nba_file2)\n",
    "nba_df2.head()"
   ]
  },
  {
   "cell_type": "code",
   "execution_count": null,
   "id": "77324785",
   "metadata": {},
   "outputs": [],
   "source": [
    "# Exctract first baseball dataset and create a dataframe\n",
    "mlb_file1 = \"Resources/Hitters_Adjusted_Salary.csv\"\n",
    "mlb_df1 = pd.read_csv(mlb_file1)\n",
    "mlb_df1.head()"
   ]
  },
  {
   "cell_type": "code",
   "execution_count": null,
   "id": "76241af1",
   "metadata": {},
   "outputs": [],
   "source": [
    "# Exctract second baseball dataset and create a dataframe\n",
    "mlb_file2 = \"Resources/Ptichers_Adjusted_Salary.csv\"\n",
    "mlb_df2 = pd.read_csv(mlb_file2)\n",
    "mlb_df2.head()"
   ]
  },
  {
   "cell_type": "markdown",
   "id": "fd991094",
   "metadata": {},
   "source": [
    "# Transform Football DataFrame"
   ]
  },
  {
   "cell_type": "code",
   "execution_count": null,
   "id": "b326b27a",
   "metadata": {},
   "outputs": [],
   "source": [
    "# Append DataFrames to create a single DataFrame for the football data\n",
    "all_nfl = nfl_df1.append(nfl_df2)\n",
    "\n",
    "# Drop columns with excessive null values Roster Bonus, Option Bonus, Restruc. Bonus, and Misc.\n",
    "all_nfl.drop(columns=[\"Row ID\", \"Roster Bonus\", \"Option Bonus\", \"Restruc. Bonus\", \"Misc.\"], axis=1, inplace=True)\n",
    "\n",
    "# Rename columns to create a uniform dataframe\n",
    "all_nfl = all_nfl.rename(columns={\"Year\": \"Years\",\n",
    "                                  \"Pos.\": \"Pos\",\n",
    "                                  \"Cap Type\": \"Cap_Type\",\n",
    "                                  \"Base Salary\": \"Base_Salary\",\n",
    "                                  \"Signing Bonus\": \"Signing_Bonus\",\n",
    "                                  \"Workout Bonus\": \"Workout_Bonus\",\n",
    "                                  \"Dead Cap\": \"Dead_Cap\",\n",
    "                                  \"Cap Hit\": \"Cap_Hit\",\n",
    "                                  \"Cap %\": \"Cap_Percent\"})\n",
    "\n",
    "\n",
    "# Further cleaned the data by dropping rows containing null values indicated by \"-\" in the dataset\n",
    "all_nfl = all_nfl[all_nfl['Base_Salary'] != \"-\"]\n",
    "all_nfl = all_nfl[all_nfl['Signing_Bonus'] != \"-\"]\n",
    "all_nfl = all_nfl[all_nfl['Workout_Bonus'] != \"-\"]\n",
    "all_nfl = all_nfl[all_nfl['Dead_Cap'] != \"-\"]\n",
    "all_nfl = all_nfl[all_nfl['Cap_Hit'] != \"-\"]\n",
    "\n",
    "# Clean the data by setting the index and dropping null values                             \n",
    "all_nfl.dropna(inplace=True) \n",
    "all_nfl.reset_index(drop =True, inplace=True)\n",
    "\n",
    "# Display first five rows of the dataframe\n",
    "all_nfl"
   ]
  },
  {
   "cell_type": "markdown",
   "id": "f77aba66",
   "metadata": {},
   "source": [
    "# Transform Basketball DataFrame"
   ]
  },
  {
   "cell_type": "code",
   "execution_count": null,
   "id": "11543205",
   "metadata": {},
   "outputs": [],
   "source": [
    "# Create a filtered dataframe from the first basketball dataframe using specific columns\n",
    "basketball_cols = [\"player_id\", \"salary\", \"season_start\", \"team\"]\n",
    "basketball_df1 = nba_df1[basketball_cols].copy()\n",
    "\n",
    "# Rename the second basketball dataframe and renamed the \"_id\" column\n",
    "basketball_df2 = nba_df2.rename(columns = {\"_id\": \"player_id\"})\n",
    "\n",
    "# Merge the two dataframes using the \"player_id\" column\n",
    "all_nba = pd.merge(basketball_df1, basketball_df2, how=\"left\", on = [\"player_id\", \"player_id\"])\n",
    "\n",
    "# Rename columns to create a uniform dataframe\n",
    "all_nba = all_nba.rename(columns={\"career_FG%\": \"career_FG_Percent\",\n",
    "                                  \"career_FG3%\": \"career_FG3_Percent\",\n",
    "                                  \"career_FT%\": \"career_FT_Percent\",\n",
    "                                  \"career_eFG%\": \"career_eFG_Percent\"\n",
    "                                  })\n",
    "\n",
    "# Clean the data by dropping null values\n",
    "all_nba.dropna(inplace=True)\n",
    "\n",
    "# Display the first five rows of the dataframe\n",
    "all_nba.head()"
   ]
  },
  {
   "cell_type": "markdown",
   "id": "e3bf55df",
   "metadata": {},
   "source": [
    "# Transform Baseball DataFrame"
   ]
  },
  {
   "cell_type": "code",
   "execution_count": null,
   "id": "c5330e43",
   "metadata": {},
   "outputs": [],
   "source": [
    "# Create a dataframe by merging the two baseball dataframes using the \"playerID\" column\n",
    "all_mlb = pd.merge(mlb_df1, mlb_df2, on = [\"playerID\", \"playerID\"], suffixes=(\"_hitter\", \"_pitcher\"))\n",
    "\n",
    "# Rename columns to create a uniform dataframe\n",
    "all_mlb = all_mlb.rename(columns={\"Unnamed: 0_hitter\": \"Unnamed_0_hitter\",\n",
    "                                  \"ADJ Salary_hitter\": \"ADJ_Salary_hitter\",\n",
    "                                  \"Unnamed: 0_pitcher\": \"Unnamed_0_pitcher\",\n",
    "                                  \"ADJ Salary_pitcher\": \"ADJ_Salary_pitcher\"})\n",
    "\n",
    "# Check the dataframe for null values\n",
    "all_mlb.isnull().sum().sum()\n",
    "# The above line of code returns 0 confirming there are no null values\n",
    "\n",
    "# Display the first five rows of the dataframe\n",
    "all_mlb.head()\n"
   ]
  },
  {
   "cell_type": "markdown",
   "id": "deb9cc34",
   "metadata": {},
   "source": [
    "# Create Database Connection"
   ]
  },
  {
   "cell_type": "code",
   "execution_count": null,
   "id": "0fcd2a28",
   "metadata": {},
   "outputs": [],
   "source": [
    "connection_string = \"postgres:postgres@localhost:5432/Sports_Salaries\"\n",
    "engine = create_engine(f'postgresql://{connection_string}')"
   ]
  },
  {
   "cell_type": "code",
   "execution_count": null,
   "id": "b4f5a226",
   "metadata": {},
   "outputs": [],
   "source": [
    "# Confirm tables\n",
    "engine.table_names()"
   ]
  },
  {
   "cell_type": "markdown",
   "id": "d73fea5a",
   "metadata": {},
   "source": [
    "# Load DataFrames into Database"
   ]
  },
  {
   "cell_type": "code",
   "execution_count": null,
   "id": "18525b90",
   "metadata": {},
   "outputs": [],
   "source": [
    "all_nfl.to_sql(name='football', con=engine, if_exists='append', index=True)"
   ]
  },
  {
   "cell_type": "code",
   "execution_count": null,
   "id": "94a3855c",
   "metadata": {},
   "outputs": [],
   "source": [
    "all_nba.to_sql(name='basketball', con=engine, if_exists='append', index=True)"
   ]
  },
  {
   "cell_type": "code",
   "execution_count": null,
   "id": "7f903c5c",
   "metadata": {},
   "outputs": [],
   "source": [
    "all_mlb.to_sql(name='baseball', con=engine, if_exists='append', index=True)"
   ]
  },
  {
   "cell_type": "code",
   "execution_count": null,
   "id": "3c280fa4",
   "metadata": {},
   "outputs": [],
   "source": []
  }
 ],
 "metadata": {
  "kernelspec": {
   "display_name": "Python 3",
   "language": "python",
   "name": "python3"
  },
  "language_info": {
   "codemirror_mode": {
    "name": "ipython",
    "version": 3
   },
   "file_extension": ".py",
   "mimetype": "text/x-python",
   "name": "python",
   "nbconvert_exporter": "python",
   "pygments_lexer": "ipython3",
   "version": "3.6.10"
  }
 },
 "nbformat": 4,
 "nbformat_minor": 5
}
